{
 "cells": [
  {
   "cell_type": "code",
   "execution_count": 3,
   "metadata": {},
   "outputs": [
    {
     "name": "stdout",
     "output_type": "stream",
     "text": [
      "The autoreload extension is already loaded. To reload it, use:\n",
      "  %reload_ext autoreload\n"
     ]
    }
   ],
   "source": [
    "%load_ext autoreload\n",
    "%autoreload 2\n",
    "\n",
    "from tqdm import tqdm\n",
    "import torch\n",
    "import numpy as np\n",
    "import os\n",
    "import h5py\n",
    "import pyvista\n",
    "\n",
    "from deepcad.dataset.cad_dataset import get_dataloader\n",
    "from deepcad.config import ConfigAE\n",
    "from deepcad.utils import ensure_dir\n",
    "from deepcad.trainer import TrainerAE\n",
    "from deepcad.cadlib.macro import EOS_IDX\n"
   ]
  },
  {
   "cell_type": "code",
   "execution_count": null,
   "metadata": {},
   "outputs": [],
   "source": [
    "def reconstruct(cfg):\n",
    "    # create network and training agent\n",
    "    tr_agent = TrainerAE(cfg)\n",
    "\n",
    "    # load from checkpoint if provided\n",
    "    tr_agent.load_ckpt(cfg.ckpt)\n",
    "    tr_agent.net.eval()\n",
    "\n",
    "    # create dataloader\n",
    "    test_loader = get_dataloader('test', cfg)\n",
    "    print(\"Total number of test data:\", len(test_loader))\n",
    "\n",
    "    if cfg.outputs is None:\n",
    "        cfg.outputs = \"{}/results/test_{}\".format(cfg.exp_dir, cfg.ckpt)\n",
    "    ensure_dir(cfg.outputs)\n",
    "\n",
    "    # evaluate\n",
    "    pbar = tqdm(test_loader)\n",
    "    for i, data in enumerate(pbar):\n",
    "        batch_size = data['command'].shape[0]\n",
    "        commands = data['command']\n",
    "        args = data['args']\n",
    "        gt_vec = torch.cat([commands.unsqueeze(-1), args], dim=-1).squeeze(1).detach().cpu().numpy()\n",
    "        commands_ = gt_vec[:, :, 0]\n",
    "        with torch.no_grad():\n",
    "            outputs, _ = tr_agent.forward(data)\n",
    "            batch_out_vec = tr_agent.logits2vec(outputs)\n",
    "\n",
    "        for j in range(batch_size):\n",
    "            out_vec = batch_out_vec[j]\n",
    "            seq_len = commands_[j].tolist().index(EOS_IDX)\n",
    "\n",
    "            data_id = data[\"id\"][j].split('/')[-1]\n",
    "\n",
    "            save_path = os.path.join(cfg.outputs, '{}_vec.h5'.format(data_id))\n",
    "            with h5py.File(save_path, 'w') as fp:\n",
    "                fp.create_dataset('out_vec', data=out_vec[:seq_len], dtype=np.int)\n",
    "                fp.create_dataset('gt_vec', data=gt_vec[j][:seq_len], dtype=np.int)\n",
    "\n",
    "\n",
    "def encode(cfg):\n",
    "    # create network and training agent\n",
    "    tr_agent = TrainerAE(cfg)\n",
    "\n",
    "    # load from checkpoint if provided\n",
    "    tr_agent.load_ckpt(cfg.ckpt)\n",
    "    tr_agent.net.eval()\n",
    "\n",
    "    # create dataloader\n",
    "    save_dir = \"{}/results\".format(cfg.exp_dir)\n",
    "    ensure_dir(save_dir)\n",
    "    save_path = os.path.join(save_dir, 'all_zs_ckpt{}.h5'.format(cfg.ckpt))\n",
    "    fp = h5py.File(save_path, 'w')\n",
    "    for phase in ['train', 'validation', 'test']:\n",
    "        train_loader = get_dataloader(phase, cfg, shuffle=False)\n",
    "\n",
    "        # encode\n",
    "        all_zs = []\n",
    "        pbar = tqdm(train_loader)\n",
    "        for i, data in enumerate(pbar):\n",
    "            with torch.no_grad():\n",
    "                z = tr_agent.encode(data, is_batch=True)\n",
    "                z = z.detach().cpu().numpy()[:, 0, :]\n",
    "                all_zs.append(z)\n",
    "        all_zs = np.concatenate(all_zs, axis=0)\n",
    "        print(all_zs.shape)\n",
    "        fp.create_dataset('{}_zs'.format(phase), data=all_zs)\n",
    "    fp.close()\n",
    "\n",
    "\n",
    "def decode(cfg):\n",
    "    # create network and training agent\n",
    "    tr_agent = TrainerAE(cfg)\n",
    "\n",
    "    # load from checkpoint if provided\n",
    "    tr_agent.load_ckpt(cfg.ckpt)\n",
    "    tr_agent.net.eval()\n",
    "\n",
    "    # load latent zs\n",
    "    with h5py.File(cfg.z_path, 'r') as fp:\n",
    "        zs = fp['zs'][:]\n",
    "    save_dir = cfg.z_path.split('.')[0] + '_dec'\n",
    "    ensure_dir(save_dir)\n",
    "\n",
    "    # decode\n",
    "    for i in range(0, len(zs), cfg.batch_size):\n",
    "        with torch.no_grad():\n",
    "            batch_z = torch.tensor(zs[i:i+cfg.batch_size], dtype=torch.float32).unsqueeze(1)\n",
    "            batch_z = batch_z.cuda()\n",
    "            outputs = tr_agent.decode(batch_z)\n",
    "            batch_out_vec = tr_agent.logits2vec(outputs)\n",
    "\n",
    "        for j in range(len(batch_z)):\n",
    "            out_vec = batch_out_vec[j]\n",
    "            out_command = out_vec[:, 0]\n",
    "            seq_len = out_command.tolist().index(EOS_IDX)\n",
    "\n",
    "            save_path = os.path.join(save_dir, '{}.h5'.format(i + j))\n",
    "            with h5py.File(save_path, 'w') as fp:\n",
    "                fp.create_dataset('out_vec', data=out_vec[:seq_len], dtype=np.int32)"
   ]
  },
  {
   "cell_type": "code",
   "execution_count": null,
   "metadata": {},
   "outputs": [],
   "source": [
    "def main():\n",
    "    # create experiment cfg containing all hyperparameters\n",
    "    cfg = ConfigAE('test')\n",
    "\n",
    "    if cfg.mode == 'rec':\n",
    "        reconstruct(cfg)\n",
    "    elif cfg.mode == 'enc':\n",
    "        encode(cfg)\n",
    "    elif cfg.mode == 'dec':\n",
    "        decode(cfg)\n",
    "    else:\n",
    "        raise ValueError"
   ]
  },
  {
   "cell_type": "code",
   "execution_count": 7,
   "metadata": {},
   "outputs": [
    {
     "ename": "TypeError",
     "evalue": "ConfigAE.__init__() takes 2 positional arguments but 3 were given",
     "output_type": "error",
     "traceback": [
      "\u001b[0;31m---------------------------------------------------------------------------\u001b[0m",
      "\u001b[0;31mTypeError\u001b[0m                                 Traceback (most recent call last)",
      "\u001b[1;32m/home/ubuntu/devel/DeepCAD/notebooks/development.ipynb Cell 4\u001b[0m line \u001b[0;36m6\n\u001b[1;32m      <a href='vscode-notebook-cell://ssh-remote%2Baws-deepcad/home/ubuntu/devel/DeepCAD/notebooks/development.ipynb#W6sdnNjb2RlLXJlbW90ZQ%3D%3D?line=0'>1</a>\u001b[0m args_dict \u001b[39m=\u001b[39m {\n\u001b[1;32m      <a href='vscode-notebook-cell://ssh-remote%2Baws-deepcad/home/ubuntu/devel/DeepCAD/notebooks/development.ipynb#W6sdnNjb2RlLXJlbW90ZQ%3D%3D?line=1'>2</a>\u001b[0m     \u001b[39m'\u001b[39m\u001b[39mproj_dir\u001b[39m\u001b[39m'\u001b[39m: \u001b[39m'\u001b[39m\u001b[39mmy_proj_dir\u001b[39m\u001b[39m'\u001b[39m,\n\u001b[1;32m      <a href='vscode-notebook-cell://ssh-remote%2Baws-deepcad/home/ubuntu/devel/DeepCAD/notebooks/development.ipynb#W6sdnNjb2RlLXJlbW90ZQ%3D%3D?line=2'>3</a>\u001b[0m     \u001b[39m'\u001b[39m\u001b[39mdata_root\u001b[39m\u001b[39m'\u001b[39m: \u001b[39m'\u001b[39m\u001b[39mmy_data_root\u001b[39m\u001b[39m'\u001b[39m,\n\u001b[1;32m      <a href='vscode-notebook-cell://ssh-remote%2Baws-deepcad/home/ubuntu/devel/DeepCAD/notebooks/development.ipynb#W6sdnNjb2RlLXJlbW90ZQ%3D%3D?line=3'>4</a>\u001b[0m     \u001b[39m# ... other arguments ...\u001b[39;00m\n\u001b[1;32m      <a href='vscode-notebook-cell://ssh-remote%2Baws-deepcad/home/ubuntu/devel/DeepCAD/notebooks/development.ipynb#W6sdnNjb2RlLXJlbW90ZQ%3D%3D?line=4'>5</a>\u001b[0m }\n\u001b[0;32m----> <a href='vscode-notebook-cell://ssh-remote%2Baws-deepcad/home/ubuntu/devel/DeepCAD/notebooks/development.ipynb#W6sdnNjb2RlLXJlbW90ZQ%3D%3D?line=5'>6</a>\u001b[0m config \u001b[39m=\u001b[39m ConfigAE(\u001b[39m'\u001b[39;49m\u001b[39mtest\u001b[39;49m\u001b[39m'\u001b[39;49m, args_dict)\n",
      "\u001b[0;31mTypeError\u001b[0m: ConfigAE.__init__() takes 2 positional arguments but 3 were given"
     ]
    }
   ],
   "source": [
    "args_dict = {\n",
    "    'proj_dir': 'my_proj_dir',\n",
    "    'data_root': 'my_data_root',\n",
    "    # ... other arguments ...\n",
    "}\n",
    "config = ConfigAE('test', args_dict)"
   ]
  },
  {
   "cell_type": "code",
   "execution_count": null,
   "metadata": {},
   "outputs": [],
   "source": []
  },
  {
   "cell_type": "code",
   "execution_count": null,
   "metadata": {},
   "outputs": [],
   "source": []
  }
 ],
 "metadata": {
  "kernelspec": {
   "display_name": "pyoccenv",
   "language": "python",
   "name": "python3"
  },
  "language_info": {
   "codemirror_mode": {
    "name": "ipython",
    "version": 3
   },
   "file_extension": ".py",
   "mimetype": "text/x-python",
   "name": "python",
   "nbconvert_exporter": "python",
   "pygments_lexer": "ipython3",
   "version": "3.10.13"
  }
 },
 "nbformat": 4,
 "nbformat_minor": 2
}
